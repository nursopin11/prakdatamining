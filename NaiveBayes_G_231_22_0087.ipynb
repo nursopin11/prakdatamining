{
  "nbformat": 4,
  "nbformat_minor": 0,
  "metadata": {
    "colab": {
      "provenance": []
    },
    "kernelspec": {
      "name": "python3",
      "display_name": "Python 3"
    },
    "language_info": {
      "name": "python"
    }
  },
  "cells": [
    {
      "cell_type": "code",
      "execution_count": 1,
      "metadata": {
        "colab": {
          "base_uri": "https://localhost:8080/"
        },
        "id": "toCLUnAII-M3",
        "outputId": "7e94953b-c787-4298-b1ee-73e575ec7b7e"
      },
      "outputs": [
        {
          "output_type": "execute_result",
          "data": {
            "text/plain": [
              "array([[[ 0.,  0.,  5., ...,  1.,  0.,  0.],\n",
              "        [ 0.,  0., 13., ..., 15.,  5.,  0.],\n",
              "        [ 0.,  3., 15., ..., 11.,  8.,  0.],\n",
              "        ...,\n",
              "        [ 0.,  4., 11., ..., 12.,  7.,  0.],\n",
              "        [ 0.,  2., 14., ..., 12.,  0.,  0.],\n",
              "        [ 0.,  0.,  6., ...,  0.,  0.,  0.]],\n",
              "\n",
              "       [[ 0.,  0.,  0., ...,  5.,  0.,  0.],\n",
              "        [ 0.,  0.,  0., ...,  9.,  0.,  0.],\n",
              "        [ 0.,  0.,  3., ...,  6.,  0.,  0.],\n",
              "        ...,\n",
              "        [ 0.,  0.,  1., ...,  6.,  0.,  0.],\n",
              "        [ 0.,  0.,  1., ...,  6.,  0.,  0.],\n",
              "        [ 0.,  0.,  0., ..., 10.,  0.,  0.]],\n",
              "\n",
              "       [[ 0.,  0.,  0., ..., 12.,  0.,  0.],\n",
              "        [ 0.,  0.,  3., ..., 14.,  0.,  0.],\n",
              "        [ 0.,  0.,  8., ..., 16.,  0.,  0.],\n",
              "        ...,\n",
              "        [ 0.,  9., 16., ...,  0.,  0.,  0.],\n",
              "        [ 0.,  3., 13., ..., 11.,  5.,  0.],\n",
              "        [ 0.,  0.,  0., ..., 16.,  9.,  0.]],\n",
              "\n",
              "       ...,\n",
              "\n",
              "       [[ 0.,  0.,  1., ...,  1.,  0.,  0.],\n",
              "        [ 0.,  0., 13., ...,  2.,  1.,  0.],\n",
              "        [ 0.,  0., 16., ..., 16.,  5.,  0.],\n",
              "        ...,\n",
              "        [ 0.,  0., 16., ..., 15.,  0.,  0.],\n",
              "        [ 0.,  0., 15., ..., 16.,  0.,  0.],\n",
              "        [ 0.,  0.,  2., ...,  6.,  0.,  0.]],\n",
              "\n",
              "       [[ 0.,  0.,  2., ...,  0.,  0.,  0.],\n",
              "        [ 0.,  0., 14., ..., 15.,  1.,  0.],\n",
              "        [ 0.,  4., 16., ..., 16.,  7.,  0.],\n",
              "        ...,\n",
              "        [ 0.,  0.,  0., ..., 16.,  2.,  0.],\n",
              "        [ 0.,  0.,  4., ..., 16.,  2.,  0.],\n",
              "        [ 0.,  0.,  5., ..., 12.,  0.,  0.]],\n",
              "\n",
              "       [[ 0.,  0., 10., ...,  1.,  0.,  0.],\n",
              "        [ 0.,  2., 16., ...,  1.,  0.,  0.],\n",
              "        [ 0.,  0., 15., ..., 15.,  0.,  0.],\n",
              "        ...,\n",
              "        [ 0.,  4., 16., ..., 16.,  6.,  0.],\n",
              "        [ 0.,  8., 16., ..., 16.,  8.,  0.],\n",
              "        [ 0.,  1.,  8., ..., 12.,  1.,  0.]]])"
            ]
          },
          "metadata": {},
          "execution_count": 1
        }
      ],
      "source": [
        "# 1 Import dataset\n",
        "from sklearn.datasets import load_digits\n",
        "digits = load_digits()\n",
        "digits.images.shape # (1797, 8, 8)\n",
        "digits.images # akan menghasilkan matrix of numbers"
      ]
    },
    {
      "cell_type": "code",
      "source": [
        "# 2. Memisahkan feture matrix (X) dengan target label (Y)\n",
        "X = digits.data\n",
        "Y = digits.target"
      ],
      "metadata": {
        "id": "NydYurLtKDSU"
      },
      "execution_count": 2,
      "outputs": []
    },
    {
      "cell_type": "code",
      "source": [
        "# 3. Splitting\n",
        "from sklearn.model_selection import train_test_split\n",
        "Xtrain, Xtest, Ytrain, Ytest = train_test_split(X, Y, random_state=0)"
      ],
      "metadata": {
        "id": "Jl5ix0NjKIC-"
      },
      "execution_count": 3,
      "outputs": []
    },
    {
      "cell_type": "code",
      "source": [
        "# 4. Trainning model\n",
        "from sklearn.naive_bayes import GaussianNB\n",
        "model = GaussianNB()\n",
        "model.fit(Xtrain, Ytrain)\n",
        "# training model dengan method fit()\n",
        "y_model = model. predict(Xtest)"
      ],
      "metadata": {
        "id": "Sen_uIvPKPu_"
      },
      "execution_count": 5,
      "outputs": []
    },
    {
      "cell_type": "code",
      "source": [
        "# 5. Melihat skor akurasi dengan data ytest\n",
        "from sklearn.metrics import accuracy_score\n",
        "accuracy_score(Ytest, y_model)\n",
        "# uji ini menghasilkan 0.833333333333334"
      ],
      "metadata": {
        "id": "QH5bjgeuKUqT"
      },
      "execution_count": null,
      "outputs": []
    }
  ]
}